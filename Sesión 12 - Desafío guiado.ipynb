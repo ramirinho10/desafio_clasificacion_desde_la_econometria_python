{
 "cells": [
  {
   "cell_type": "markdown",
   "id": "86e0ae5d",
   "metadata": {},
   "source": [
    "<h1 style=\"text-align: center;\">Desafío - Regresión desde la econometría</h1>\n",
    "\n",
    "- Para realizar este desafío debes haber estudiado previamente todo el material disponible correspondiente a la unidad.\n",
    "- Una vez terminado el desafío, comprime la carpeta que contiene el desarrollo de los requerimientos solicitados y sube el .zip en el LMS.\n",
    "- Desarrollo del desafío: individual\n",
    "- Para la realización del desafío necesitarás apoyarte del archivo `Apoyo Desafío - Clasificación desde la econometría`, disponible en la <a href=\"https://empieza.desafiolatam.com/cohorts/2091/sections/78288/activities/119116/items/610922\">plataforma</a>."
   ]
  },
  {
   "cell_type": "markdown",
   "id": "8d7bf68f",
   "metadata": {},
   "source": [
    "## Descripción\n",
    "En esta sesión trabajaremos el dataset south african heart, el cual contiene las siguientes variables:\n",
    "- `sbp`: Presión Sanguínea Sistólica.\n",
    "- `tobacco`: Promedio tabaco consumido por día.\n",
    "- `ldl`: Lipoproteína de baja densidad.\n",
    "- `adiposity`: Adiposidad.\n",
    "- `famhist`: Antecedentes familiares de enfermedades cardiácas. (Binaria)\n",
    "- `types`: Personalidad tipo A\n",
    "- `obesity`: Obesidad.\n",
    "- `alcohol`: Consumo actual de alcohol.\n",
    "- `age`: edad.\n",
    "- `chd`: Enfermedad coronaria. (dummy). **Vector objetivo**."
   ]
  },
  {
   "cell_type": "markdown",
   "id": "a28ec1e8",
   "metadata": {},
   "source": [
    "### Desafío 1: Preparar el ambiente de trabajo\n",
    "- Cargue las librerías básicas para importación y manipulación de datos (numpy, pandas), gráficos (matplotlib y seaborn) y de modelación econométrica (statsmodels).\n",
    "- Importe el archivo `southafricanheart.csv` que se encuentra dentro del material de apoyo."
   ]
  },
  {
   "cell_type": "code",
   "execution_count": 1,
   "id": "0b44de77",
   "metadata": {},
   "outputs": [
    {
     "data": {
      "text/html": [
       "<div>\n",
       "<style scoped>\n",
       "    .dataframe tbody tr th:only-of-type {\n",
       "        vertical-align: middle;\n",
       "    }\n",
       "\n",
       "    .dataframe tbody tr th {\n",
       "        vertical-align: top;\n",
       "    }\n",
       "\n",
       "    .dataframe thead th {\n",
       "        text-align: right;\n",
       "    }\n",
       "</style>\n",
       "<table border=\"1\" class=\"dataframe\">\n",
       "  <thead>\n",
       "    <tr style=\"text-align: right;\">\n",
       "      <th></th>\n",
       "      <th>sbp</th>\n",
       "      <th>tobacco</th>\n",
       "      <th>ldl</th>\n",
       "      <th>adiposity</th>\n",
       "      <th>famhist</th>\n",
       "      <th>typea</th>\n",
       "      <th>obesity</th>\n",
       "      <th>alcohol</th>\n",
       "      <th>age</th>\n",
       "      <th>chd</th>\n",
       "    </tr>\n",
       "  </thead>\n",
       "  <tbody>\n",
       "    <tr>\n",
       "      <th>0</th>\n",
       "      <td>160</td>\n",
       "      <td>12.00</td>\n",
       "      <td>5.73</td>\n",
       "      <td>23.11</td>\n",
       "      <td>Present</td>\n",
       "      <td>49</td>\n",
       "      <td>25.30</td>\n",
       "      <td>97.20</td>\n",
       "      <td>52</td>\n",
       "      <td>1</td>\n",
       "    </tr>\n",
       "    <tr>\n",
       "      <th>1</th>\n",
       "      <td>144</td>\n",
       "      <td>0.01</td>\n",
       "      <td>4.41</td>\n",
       "      <td>28.61</td>\n",
       "      <td>Absent</td>\n",
       "      <td>55</td>\n",
       "      <td>28.87</td>\n",
       "      <td>2.06</td>\n",
       "      <td>63</td>\n",
       "      <td>1</td>\n",
       "    </tr>\n",
       "    <tr>\n",
       "      <th>2</th>\n",
       "      <td>118</td>\n",
       "      <td>0.08</td>\n",
       "      <td>3.48</td>\n",
       "      <td>32.28</td>\n",
       "      <td>Present</td>\n",
       "      <td>52</td>\n",
       "      <td>29.14</td>\n",
       "      <td>3.81</td>\n",
       "      <td>46</td>\n",
       "      <td>0</td>\n",
       "    </tr>\n",
       "    <tr>\n",
       "      <th>3</th>\n",
       "      <td>170</td>\n",
       "      <td>7.50</td>\n",
       "      <td>6.41</td>\n",
       "      <td>38.03</td>\n",
       "      <td>Present</td>\n",
       "      <td>51</td>\n",
       "      <td>31.99</td>\n",
       "      <td>24.26</td>\n",
       "      <td>58</td>\n",
       "      <td>1</td>\n",
       "    </tr>\n",
       "    <tr>\n",
       "      <th>4</th>\n",
       "      <td>134</td>\n",
       "      <td>13.60</td>\n",
       "      <td>3.50</td>\n",
       "      <td>27.78</td>\n",
       "      <td>Present</td>\n",
       "      <td>60</td>\n",
       "      <td>25.99</td>\n",
       "      <td>57.34</td>\n",
       "      <td>49</td>\n",
       "      <td>1</td>\n",
       "    </tr>\n",
       "  </tbody>\n",
       "</table>\n",
       "</div>"
      ],
      "text/plain": [
       "   sbp  tobacco   ldl  adiposity  famhist  typea  obesity  alcohol  age  chd\n",
       "0  160    12.00  5.73      23.11  Present     49    25.30    97.20   52    1\n",
       "1  144     0.01  4.41      28.61   Absent     55    28.87     2.06   63    1\n",
       "2  118     0.08  3.48      32.28  Present     52    29.14     3.81   46    0\n",
       "3  170     7.50  6.41      38.03  Present     51    31.99    24.26   58    1\n",
       "4  134    13.60  3.50      27.78  Present     60    25.99    57.34   49    1"
      ]
     },
     "execution_count": 1,
     "metadata": {},
     "output_type": "execute_result"
    }
   ],
   "source": [
    "# Utiliza esta celda para importar los módulos solicitados y el set de datos\n",
    "\n",
    "import pandas as pd\n",
    "import numpy as np\n",
    "import matplotlib.pyplot as plt\n",
    "import statsmodels.formula.api as smf\n",
    "\n",
    "df = pd.read_csv(\"southafricanheart.csv\").drop(columns=[\"Unnamed: 0\"])\n",
    "\n",
    "df.head(5)"
   ]
  },
  {
   "cell_type": "markdown",
   "id": "54f9bca6",
   "metadata": {},
   "source": [
    "- Realice una descripción del set importado mostrando la lista con los nombres de variables importadas"
   ]
  },
  {
   "cell_type": "code",
   "execution_count": 2,
   "id": "ef56c57c",
   "metadata": {},
   "outputs": [
    {
     "data": {
      "text/plain": [
       "Index(['sbp', 'tobacco', 'ldl', 'adiposity', 'famhist', 'typea', 'obesity',\n",
       "       'alcohol', 'age', 'chd'],\n",
       "      dtype='object')"
      ]
     },
     "execution_count": 2,
     "metadata": {},
     "output_type": "execute_result"
    }
   ],
   "source": [
    "# Utiliza esta celda para mostrar los nombres de las columnas del dataframe\n",
    "\n",
    "df.columns"
   ]
  },
  {
   "cell_type": "markdown",
   "id": "bbbf3682",
   "metadata": {},
   "source": [
    "- Muestre un análisis descriptivo mediante .describe()"
   ]
  },
  {
   "cell_type": "code",
   "execution_count": 3,
   "id": "39a0a43d",
   "metadata": {},
   "outputs": [
    {
     "data": {
      "text/html": [
       "<div>\n",
       "<style scoped>\n",
       "    .dataframe tbody tr th:only-of-type {\n",
       "        vertical-align: middle;\n",
       "    }\n",
       "\n",
       "    .dataframe tbody tr th {\n",
       "        vertical-align: top;\n",
       "    }\n",
       "\n",
       "    .dataframe thead th {\n",
       "        text-align: right;\n",
       "    }\n",
       "</style>\n",
       "<table border=\"1\" class=\"dataframe\">\n",
       "  <thead>\n",
       "    <tr style=\"text-align: right;\">\n",
       "      <th></th>\n",
       "      <th>sbp</th>\n",
       "      <th>tobacco</th>\n",
       "      <th>ldl</th>\n",
       "      <th>adiposity</th>\n",
       "      <th>typea</th>\n",
       "      <th>obesity</th>\n",
       "      <th>alcohol</th>\n",
       "      <th>age</th>\n",
       "      <th>chd</th>\n",
       "    </tr>\n",
       "  </thead>\n",
       "  <tbody>\n",
       "    <tr>\n",
       "      <th>count</th>\n",
       "      <td>462.000000</td>\n",
       "      <td>462.000000</td>\n",
       "      <td>462.000000</td>\n",
       "      <td>462.000000</td>\n",
       "      <td>462.000000</td>\n",
       "      <td>462.000000</td>\n",
       "      <td>462.000000</td>\n",
       "      <td>462.000000</td>\n",
       "      <td>462.000000</td>\n",
       "    </tr>\n",
       "    <tr>\n",
       "      <th>mean</th>\n",
       "      <td>138.326840</td>\n",
       "      <td>3.635649</td>\n",
       "      <td>4.740325</td>\n",
       "      <td>25.406732</td>\n",
       "      <td>53.103896</td>\n",
       "      <td>26.044113</td>\n",
       "      <td>17.044394</td>\n",
       "      <td>42.816017</td>\n",
       "      <td>0.346320</td>\n",
       "    </tr>\n",
       "    <tr>\n",
       "      <th>std</th>\n",
       "      <td>20.496317</td>\n",
       "      <td>4.593024</td>\n",
       "      <td>2.070909</td>\n",
       "      <td>7.780699</td>\n",
       "      <td>9.817534</td>\n",
       "      <td>4.213680</td>\n",
       "      <td>24.481059</td>\n",
       "      <td>14.608956</td>\n",
       "      <td>0.476313</td>\n",
       "    </tr>\n",
       "    <tr>\n",
       "      <th>min</th>\n",
       "      <td>101.000000</td>\n",
       "      <td>0.000000</td>\n",
       "      <td>0.980000</td>\n",
       "      <td>6.740000</td>\n",
       "      <td>13.000000</td>\n",
       "      <td>14.700000</td>\n",
       "      <td>0.000000</td>\n",
       "      <td>15.000000</td>\n",
       "      <td>0.000000</td>\n",
       "    </tr>\n",
       "    <tr>\n",
       "      <th>25%</th>\n",
       "      <td>124.000000</td>\n",
       "      <td>0.052500</td>\n",
       "      <td>3.282500</td>\n",
       "      <td>19.775000</td>\n",
       "      <td>47.000000</td>\n",
       "      <td>22.985000</td>\n",
       "      <td>0.510000</td>\n",
       "      <td>31.000000</td>\n",
       "      <td>0.000000</td>\n",
       "    </tr>\n",
       "    <tr>\n",
       "      <th>50%</th>\n",
       "      <td>134.000000</td>\n",
       "      <td>2.000000</td>\n",
       "      <td>4.340000</td>\n",
       "      <td>26.115000</td>\n",
       "      <td>53.000000</td>\n",
       "      <td>25.805000</td>\n",
       "      <td>7.510000</td>\n",
       "      <td>45.000000</td>\n",
       "      <td>0.000000</td>\n",
       "    </tr>\n",
       "    <tr>\n",
       "      <th>75%</th>\n",
       "      <td>148.000000</td>\n",
       "      <td>5.500000</td>\n",
       "      <td>5.790000</td>\n",
       "      <td>31.227500</td>\n",
       "      <td>60.000000</td>\n",
       "      <td>28.497500</td>\n",
       "      <td>23.892500</td>\n",
       "      <td>55.000000</td>\n",
       "      <td>1.000000</td>\n",
       "    </tr>\n",
       "    <tr>\n",
       "      <th>max</th>\n",
       "      <td>218.000000</td>\n",
       "      <td>31.200000</td>\n",
       "      <td>15.330000</td>\n",
       "      <td>42.490000</td>\n",
       "      <td>78.000000</td>\n",
       "      <td>46.580000</td>\n",
       "      <td>147.190000</td>\n",
       "      <td>64.000000</td>\n",
       "      <td>1.000000</td>\n",
       "    </tr>\n",
       "  </tbody>\n",
       "</table>\n",
       "</div>"
      ],
      "text/plain": [
       "              sbp     tobacco         ldl   adiposity       typea     obesity  \\\n",
       "count  462.000000  462.000000  462.000000  462.000000  462.000000  462.000000   \n",
       "mean   138.326840    3.635649    4.740325   25.406732   53.103896   26.044113   \n",
       "std     20.496317    4.593024    2.070909    7.780699    9.817534    4.213680   \n",
       "min    101.000000    0.000000    0.980000    6.740000   13.000000   14.700000   \n",
       "25%    124.000000    0.052500    3.282500   19.775000   47.000000   22.985000   \n",
       "50%    134.000000    2.000000    4.340000   26.115000   53.000000   25.805000   \n",
       "75%    148.000000    5.500000    5.790000   31.227500   60.000000   28.497500   \n",
       "max    218.000000   31.200000   15.330000   42.490000   78.000000   46.580000   \n",
       "\n",
       "          alcohol         age         chd  \n",
       "count  462.000000  462.000000  462.000000  \n",
       "mean    17.044394   42.816017    0.346320  \n",
       "std     24.481059   14.608956    0.476313  \n",
       "min      0.000000   15.000000    0.000000  \n",
       "25%      0.510000   31.000000    0.000000  \n",
       "50%      7.510000   45.000000    0.000000  \n",
       "75%     23.892500   55.000000    1.000000  \n",
       "max    147.190000   64.000000    1.000000  "
      ]
     },
     "execution_count": 3,
     "metadata": {},
     "output_type": "execute_result"
    }
   ],
   "source": [
    "# Utiliza esta celda para aplicar describe()\n",
    "#Es para variables continuas, no considerar el chd\n",
    "\n",
    "df.describe()"
   ]
  },
  {
   "cell_type": "markdown",
   "id": "134041bb",
   "metadata": {},
   "source": [
    "**Comentarios de las variables continuas**\n",
    "Sus magnitudes son variadas. \n",
    "Se aprecia que no existen valores nulos.\n",
    "Chd no se debe considerar como variable continua, ya que corresponde anuesto vector objetico que es categórico. "
   ]
  },
  {
   "cell_type": "markdown",
   "id": "f44ae6f4",
   "metadata": {},
   "source": [
    "- Muestre distribución de categorías para las variables `famhist` y `chd`."
   ]
  },
  {
   "cell_type": "code",
   "execution_count": 4,
   "id": "7ee3a745",
   "metadata": {},
   "outputs": [
    {
     "data": {
      "image/png": "[encoded data removed]",
      "text/plain": [
       "<Figure size 432x288 with 1 Axes>"
      ]
     },
     "metadata": {
      "needs_background": "light"
     },
     "output_type": "display_data"
    }
   ],
   "source": [
    "# Utiliza esta celda para mostrar las frecuencias de famhist con un gráfico de barras\n",
    "\n",
    "df[\"famhist\"].value_counts().plot(kind=\"bar\");"
   ]
  },
  {
   "cell_type": "code",
   "execution_count": 5,
   "id": "30be71fc",
   "metadata": {},
   "outputs": [
    {
     "data": {
      "image/png": "[encoded data removed]",
      "text/plain": [
       "<Figure size 432x288 with 1 Axes>"
      ]
     },
     "metadata": {
      "needs_background": "light"
     },
     "output_type": "display_data"
    }
   ],
   "source": [
    "# Utiliza esta celda para mostrar las frecuencias de chd con un gráfico de barras\n",
    "\n",
    "df[\"chd\"].value_counts().plot(kind=\"bar\");"
   ]
  },
  {
   "cell_type": "markdown",
   "id": "1a9487f5",
   "metadata": {},
   "source": [
    "**Comentarios de las variables categóricas**\n",
    "\n",
    "Una mayot cantidad de personas no tiene antecendentes familiares ni presentar enfermedad coronaria.\n",
    "Esto se aprecia en los graficos de barra."
   ]
  },
  {
   "cell_type": "markdown",
   "id": "fc9ad18b",
   "metadata": {},
   "source": [
    "## Desafío 2\n",
    "\n",
    "A continuación se presenta el siguiente modelo a estimar:\n",
    "\n",
    "$$\n",
    "\\log\\left(\\frac{p(\\text{chd}=1)}{1-p(\\text{chd}=1)}\\right)_i=\\beta_0 + \\beta_{famhist} \\cdot \\text{famhist}_i\n",
    "$$\n",
    "\n",
    "Para ello ejecute los siguientes pasos:\n",
    "1. Recodifique `famhist` a dummy, asignando 1 a la categoría minoritaria."
   ]
  },
  {
   "cell_type": "code",
   "execution_count": 6,
   "id": "70fedd74",
   "metadata": {},
   "outputs": [
    {
     "data": {
      "text/plain": [
       "0    270\n",
       "1    192\n",
       "Name: famhist, dtype: int64"
      ]
     },
     "execution_count": 6,
     "metadata": {},
     "output_type": "execute_result"
    }
   ],
   "source": [
    "# Utiliza esta celda para realizar la codificación solicitada\n",
    "#Se coloca 1 a al categoria minoritaria\n",
    "\n",
    "df[\"famhist\"] = df[\"famhist\"].replace([\"Absent\", \"Present\"], [0, 1])\n",
    "\n",
    "df[\"famhist\"].value_counts()"
   ]
  },
  {
   "cell_type": "markdown",
   "id": "da02917e",
   "metadata": {},
   "source": [
    "2. Utilice `smf.logit` para estimar el modelo."
   ]
  },
  {
   "cell_type": "code",
   "execution_count": 7,
   "id": "479199b2",
   "metadata": {},
   "outputs": [
    {
     "name": "stdout",
     "output_type": "stream",
     "text": [
      "Optimization terminated successfully.\n",
      "         Current function value: 0.608111\n",
      "         Iterations 5\n"
     ]
    }
   ],
   "source": [
    "# Utiliza esta celda para instanciar y entrenar el modelo solicitado\n",
    "#vd ~ vi , df\n",
    "\n",
    "modelo_1 = smf.logit(\"chd ~ famhist\", df).fit()"
   ]
  },
  {
   "cell_type": "markdown",
   "id": "7ab49a27",
   "metadata": {},
   "source": [
    "3. Implemente una función `inverse_logit` que realice el mapeo de log-odds a probabilidad."
   ]
  },
  {
   "cell_type": "code",
   "execution_count": 8,
   "id": "70d38beb",
   "metadata": {},
   "outputs": [],
   "source": [
    "# Utiliza esta celda para implementar la función solicitada\n",
    "\n",
    "#en el x van los logaritmos de chance de ocurrencia\n",
    "\n",
    "def inverse_logit(x):\n",
    "    #Retorna una probabilidad\n",
    "    return 1 / (1 + np. exp(-x))"
   ]
  },
  {
   "cell_type": "markdown",
   "id": "968bfe4b",
   "metadata": {},
   "source": [
    "4.  Con el modelo estimado, responda lo siguiente:\n",
    "- ¿Cuál es la probabilidad de un individuo con antecedentes familiares de tener una enfermedad coronaria?"
   ]
  },
  {
   "cell_type": "code",
   "execution_count": 9,
   "id": "30037f8b",
   "metadata": {},
   "outputs": [
    {
     "name": "stdout",
     "output_type": "stream",
     "text": [
      "La prob de tener una enfermedad coronaria cuando se tiene antecedentes familiares es de 0.5\n"
     ]
    }
   ],
   "source": [
    "# Utiliza esta celda para obtener los log odds en base a los coeficientes, cuando famhist=1.\n",
    "#En los params estan los coeficientes\n",
    "\n",
    "log_odds_estimados = modelo_1.params[\"Intercept\"] +  modelo_1.params[\"famhist\"] * 1\n",
    "\n",
    "# Obtener además la probabilidad utilizando inverse_logit\n",
    "\n",
    "probabilidad_con_antecedentes = inverse_logit(log_odds_estimados)\n",
    "\n",
    "print(f\"La prob de tener una enfermedad coronaria cuando se tiene antecedentes familiares es de {probabilidad_con_antecedentes}\")"
   ]
  },
  {
   "cell_type": "markdown",
   "id": "de3251ec",
   "metadata": {},
   "source": [
    "¿Cuál es la probabilidad de un individuo sin antecedentes familiares de tener\n",
    "una enfermedad coronaria?"
   ]
  },
  {
   "cell_type": "code",
   "execution_count": 10,
   "id": "259e2a95",
   "metadata": {},
   "outputs": [
    {
     "name": "stdout",
     "output_type": "stream",
     "text": [
      "La prob de tener una enfermedad coronaria cuando se tiene antecedentes familiares es de 0.23703703703703688\n"
     ]
    }
   ],
   "source": [
    "# Utiliza esta celda para obtener los log odds en base a los coeficientes, cuando famhist=0.\n",
    "\n",
    "log_odds_estimados_sin = modelo_1.params[\"Intercept\"] +  modelo_1.params[\"famhist\"] * 0\n",
    "\n",
    "# Obtener además la probabilidad utilizando inverse_logit\n",
    "\n",
    "probabilidad_sin_antecedentes = inverse_logit(log_odds_estimados_sin)\n",
    "\n",
    "print(f\"La prob de tener una enfermedad coronaria cuando se tiene antecedentes familiares es de {probabilidad_sin_antecedentes}\")"
   ]
  },
  {
   "cell_type": "markdown",
   "id": "6284e2ed",
   "metadata": {},
   "source": [
    "- ¿Cuál es la diferencia en la probabilidad entre un individuo con antecedentes y otro sin antecedentes?"
   ]
  },
  {
   "cell_type": "code",
   "execution_count": 11,
   "id": "1b6a89ef",
   "metadata": {},
   "outputs": [
    {
     "name": "stdout",
     "output_type": "stream",
     "text": [
      "Un individuo con antecendentes familiares tiene 0.26 más de probabilidades tener una enfermedad coronaria\n"
     ]
    }
   ],
   "source": [
    "# Utiliza esta celda para mostrar las diferencias de ambas probabilidades\n",
    "\n",
    "print(f\"Un individuo con antecendentes familiares tiene {round(probabilidad_con_antecedentes-probabilidad_sin_antecedentes, 2)}\"\n",
    "      f\" más de probabilidades tener una enfermedad coronaria\")"
   ]
  },
  {
   "cell_type": "markdown",
   "id": "ee28417b",
   "metadata": {},
   "source": [
    "- Replique el modelo con smf.ols y comente las similitudes entre los coeficientes estimados. _Tip: Utilice $\\beta$/4_"
   ]
  },
  {
   "cell_type": "code",
   "execution_count": 12,
   "id": "0554c3c5",
   "metadata": {},
   "outputs": [
    {
     "data": {
      "text/plain": [
       "Intercept    0.237037\n",
       "famhist      0.262963\n",
       "dtype: float64"
      ]
     },
     "execution_count": 12,
     "metadata": {},
     "output_type": "execute_result"
    }
   ],
   "source": [
    "# Utiliza esta celda para entrenar el modelo ols y mostrar los coeficientes\n",
    "\n",
    "modelo_2 =smf.ols(\"chd ~ famhist\", df).fit()\n",
    "modelo_2.params"
   ]
  },
  {
   "cell_type": "code",
   "execution_count": 13,
   "id": "3a340b56",
   "metadata": {},
   "outputs": [
    {
     "data": {
      "text/plain": [
       "Intercept   -1.168993\n",
       "famhist      1.168993\n",
       "dtype: float64"
      ]
     },
     "execution_count": 13,
     "metadata": {},
     "output_type": "execute_result"
    }
   ],
   "source": [
    "modelo_1.params"
   ]
  },
  {
   "cell_type": "code",
   "execution_count": 14,
   "id": "6f678122",
   "metadata": {},
   "outputs": [
    {
     "data": {
      "text/plain": [
       "0.29224827135747744"
      ]
     },
     "execution_count": 14,
     "metadata": {},
     "output_type": "execute_result"
    }
   ],
   "source": [
    "modelo_1.params[\"famhist\"] / 4"
   ]
  },
  {
   "cell_type": "markdown",
   "id": "81adfcf5",
   "metadata": {},
   "source": [
    "**Respuesta**\n",
    "El valor obtenido al dividir el coeficiente estimado con logit por 4 es similar al valor del coeficiente obtenido con Min Cuad"
   ]
  },
  {
   "cell_type": "markdown",
   "id": "a45cc9aa",
   "metadata": {},
   "source": [
    "### Desafío 3: Estimación completa\n",
    "\n",
    "Implemente un modelo con la siguiente forma:\n",
    "\n",
    "$$\n",
    "\\log\\left(\\frac{p(\\text{chd}=1)}{1-p(\\text{chd}=1)}\\right)_i=\\beta_0 + \\sum_{j=1}^{n}\\beta_j \\cdot X_{ji}\n",
    "$$"
   ]
  },
  {
   "cell_type": "code",
   "execution_count": 15,
   "id": "6958b60f",
   "metadata": {},
   "outputs": [
    {
     "name": "stdout",
     "output_type": "stream",
     "text": [
      "Optimization terminated successfully.\n",
      "         Current function value: 0.510974\n",
      "         Iterations 6\n"
     ]
    }
   ],
   "source": [
    "# Utiliza esta celda para entrenar el modelo solicitado\n",
    "\n",
    "model_3 = smf.logit(\"chd ~ sbp + tobacco + ldl + adiposity + famhist + typea + obesity + alcohol + age\", df).fit()"
   ]
  },
  {
   "cell_type": "markdown",
   "id": "b6fdb86d",
   "metadata": {},
   "source": [
    "- Depure el modelo manteniendo las variables con significancia estadística al 5%."
   ]
  },
  {
   "cell_type": "code",
   "execution_count": 16,
   "id": "1439745e",
   "metadata": {},
   "outputs": [
    {
     "data": {
      "text/html": [
       "<div>\n",
       "<style scoped>\n",
       "    .dataframe tbody tr th:only-of-type {\n",
       "        vertical-align: middle;\n",
       "    }\n",
       "\n",
       "    .dataframe tbody tr th {\n",
       "        vertical-align: top;\n",
       "    }\n",
       "\n",
       "    .dataframe thead th {\n",
       "        text-align: right;\n",
       "    }\n",
       "</style>\n",
       "<table border=\"1\" class=\"dataframe\">\n",
       "  <thead>\n",
       "    <tr style=\"text-align: right;\">\n",
       "      <th></th>\n",
       "      <th>Coef.</th>\n",
       "      <th>Std.Err.</th>\n",
       "      <th>z</th>\n",
       "      <th>P&gt;|z|</th>\n",
       "      <th>[0.025</th>\n",
       "      <th>0.975]</th>\n",
       "    </tr>\n",
       "  </thead>\n",
       "  <tbody>\n",
       "    <tr>\n",
       "      <th>Intercept</th>\n",
       "      <td>-6.150721</td>\n",
       "      <td>1.308260</td>\n",
       "      <td>-4.701451</td>\n",
       "      <td>0.000003</td>\n",
       "      <td>-8.714863</td>\n",
       "      <td>-3.586578</td>\n",
       "    </tr>\n",
       "    <tr>\n",
       "      <th>tobacco</th>\n",
       "      <td>0.079376</td>\n",
       "      <td>0.026603</td>\n",
       "      <td>2.983758</td>\n",
       "      <td>0.002847</td>\n",
       "      <td>0.027236</td>\n",
       "      <td>0.131517</td>\n",
       "    </tr>\n",
       "    <tr>\n",
       "      <th>ldl</th>\n",
       "      <td>0.173924</td>\n",
       "      <td>0.059662</td>\n",
       "      <td>2.915166</td>\n",
       "      <td>0.003555</td>\n",
       "      <td>0.056989</td>\n",
       "      <td>0.290859</td>\n",
       "    </tr>\n",
       "    <tr>\n",
       "      <th>famhist</th>\n",
       "      <td>0.925370</td>\n",
       "      <td>0.227894</td>\n",
       "      <td>4.060530</td>\n",
       "      <td>0.000049</td>\n",
       "      <td>0.478706</td>\n",
       "      <td>1.372034</td>\n",
       "    </tr>\n",
       "    <tr>\n",
       "      <th>typea</th>\n",
       "      <td>0.039595</td>\n",
       "      <td>0.012320</td>\n",
       "      <td>3.213823</td>\n",
       "      <td>0.001310</td>\n",
       "      <td>0.015448</td>\n",
       "      <td>0.063742</td>\n",
       "    </tr>\n",
       "    <tr>\n",
       "      <th>age</th>\n",
       "      <td>0.045225</td>\n",
       "      <td>0.012130</td>\n",
       "      <td>3.728464</td>\n",
       "      <td>0.000193</td>\n",
       "      <td>0.021451</td>\n",
       "      <td>0.068999</td>\n",
       "    </tr>\n",
       "  </tbody>\n",
       "</table>\n",
       "</div>"
      ],
      "text/plain": [
       "              Coef.  Std.Err.         z     P>|z|    [0.025    0.975]\n",
       "Intercept -6.150721  1.308260 -4.701451  0.000003 -8.714863 -3.586578\n",
       "tobacco    0.079376  0.026603  2.983758  0.002847  0.027236  0.131517\n",
       "ldl        0.173924  0.059662  2.915166  0.003555  0.056989  0.290859\n",
       "famhist    0.925370  0.227894  4.060530  0.000049  0.478706  1.372034\n",
       "typea      0.039595  0.012320  3.213823  0.001310  0.015448  0.063742\n",
       "age        0.045225  0.012130  3.728464  0.000193  0.021451  0.068999"
      ]
     },
     "execution_count": 16,
     "metadata": {},
     "output_type": "execute_result"
    }
   ],
   "source": [
    "# Utiliza esta celda para mostrar los coeficientes con significancia estadística al 5%\n",
    "\n",
    "coefs = model_3.summary2().tables[1]\n",
    "\n",
    "coefs[coefs[\"P>|z|\"] < 0.05]"
   ]
  },
  {
   "cell_type": "code",
   "execution_count": 17,
   "id": "5b24d061",
   "metadata": {},
   "outputs": [
    {
     "name": "stdout",
     "output_type": "stream",
     "text": [
      "Optimization terminated successfully.\n",
      "         Current function value: 0.514811\n",
      "         Iterations 6\n"
     ]
    }
   ],
   "source": [
    "# Utiliza esta celda para entrenar el modelo depurado\n",
    "\n",
    "model_4 = smf.logit(\"chd ~ tobacco + ldl + famhist + typea + age\", df).fit()"
   ]
  },
  {
   "cell_type": "markdown",
   "id": "8fee2b14",
   "metadata": {},
   "source": [
    "- Compare los estadísticos de bondad de ajuste entre ambos."
   ]
  },
  {
   "cell_type": "code",
   "execution_count": 18,
   "id": "44078e09",
   "metadata": {},
   "outputs": [
    {
     "name": "stdout",
     "output_type": "stream",
     "text": [
      "La Log verosimilitud del modelo saturado es de -236.07001618624895\n"
     ]
    }
   ],
   "source": [
    "# Utiliza esta celda para mostrar los estadísticos de bondad de ajuste del primer modelo\n",
    "\n",
    "print(f\"La Log verosimilitud del modelo saturado es de {model_3.llf}\")"
   ]
  },
  {
   "cell_type": "code",
   "execution_count": 19,
   "id": "3a067fd0",
   "metadata": {},
   "outputs": [
    {
     "name": "stdout",
     "output_type": "stream",
     "text": [
      "La Log verosimilitud del modelo depurado es de -237.84278901687432\n"
     ]
    }
   ],
   "source": [
    "# Utiliza esta celda para mostrar los estadísticos de bondad de ajuste del segundo modelo\n",
    "\n",
    "print(f\"La Log verosimilitud del modelo depurado es de {model_4.llf}\")"
   ]
  },
  {
   "cell_type": "markdown",
   "id": "42c1708a",
   "metadata": {},
   "source": [
    "**Respuesta**\n",
    "\n",
    "La log verosimilitud es levemente (mayor) en el modelo saturado"
   ]
  },
  {
   "cell_type": "markdown",
   "id": "aabbce49",
   "metadata": {},
   "source": [
    "- Reporte de forma sucinta el efecto de las variables en el log-odds de tener una enfermedad coronaria"
   ]
  },
  {
   "cell_type": "code",
   "execution_count": 20,
   "id": "812a6fc5",
   "metadata": {},
   "outputs": [
    {
     "data": {
      "text/html": [
       "<div>\n",
       "<style scoped>\n",
       "    .dataframe tbody tr th:only-of-type {\n",
       "        vertical-align: middle;\n",
       "    }\n",
       "\n",
       "    .dataframe tbody tr th {\n",
       "        vertical-align: top;\n",
       "    }\n",
       "\n",
       "    .dataframe thead th {\n",
       "        text-align: right;\n",
       "    }\n",
       "</style>\n",
       "<table border=\"1\" class=\"dataframe\">\n",
       "  <thead>\n",
       "    <tr style=\"text-align: right;\">\n",
       "      <th></th>\n",
       "      <th>Coef.</th>\n",
       "      <th>Std.Err.</th>\n",
       "      <th>z</th>\n",
       "      <th>P&gt;|z|</th>\n",
       "      <th>[0.025</th>\n",
       "      <th>0.975]</th>\n",
       "    </tr>\n",
       "  </thead>\n",
       "  <tbody>\n",
       "    <tr>\n",
       "      <th>tobacco</th>\n",
       "      <td>0.080375</td>\n",
       "      <td>0.025880</td>\n",
       "      <td>3.105731</td>\n",
       "      <td>1.898095e-03</td>\n",
       "      <td>0.029652</td>\n",
       "      <td>0.131099</td>\n",
       "    </tr>\n",
       "    <tr>\n",
       "      <th>ldl</th>\n",
       "      <td>0.161992</td>\n",
       "      <td>0.054969</td>\n",
       "      <td>2.946967</td>\n",
       "      <td>3.209075e-03</td>\n",
       "      <td>0.054255</td>\n",
       "      <td>0.269729</td>\n",
       "    </tr>\n",
       "    <tr>\n",
       "      <th>famhist</th>\n",
       "      <td>0.908175</td>\n",
       "      <td>0.225758</td>\n",
       "      <td>4.022774</td>\n",
       "      <td>5.751661e-05</td>\n",
       "      <td>0.465697</td>\n",
       "      <td>1.350654</td>\n",
       "    </tr>\n",
       "    <tr>\n",
       "      <th>typea</th>\n",
       "      <td>0.037115</td>\n",
       "      <td>0.012167</td>\n",
       "      <td>3.050542</td>\n",
       "      <td>2.284291e-03</td>\n",
       "      <td>0.013269</td>\n",
       "      <td>0.060962</td>\n",
       "    </tr>\n",
       "    <tr>\n",
       "      <th>age</th>\n",
       "      <td>0.050460</td>\n",
       "      <td>0.010206</td>\n",
       "      <td>4.944159</td>\n",
       "      <td>7.647332e-07</td>\n",
       "      <td>0.030457</td>\n",
       "      <td>0.070464</td>\n",
       "    </tr>\n",
       "  </tbody>\n",
       "</table>\n",
       "</div>"
      ],
      "text/plain": [
       "            Coef.  Std.Err.         z         P>|z|    [0.025    0.975]\n",
       "tobacco  0.080375  0.025880  3.105731  1.898095e-03  0.029652  0.131099\n",
       "ldl      0.161992  0.054969  2.946967  3.209075e-03  0.054255  0.269729\n",
       "famhist  0.908175  0.225758  4.022774  5.751661e-05  0.465697  1.350654\n",
       "typea    0.037115  0.012167  3.050542  2.284291e-03  0.013269  0.060962\n",
       "age      0.050460  0.010206  4.944159  7.647332e-07  0.030457  0.070464"
      ]
     },
     "execution_count": 20,
     "metadata": {},
     "output_type": "execute_result"
    }
   ],
   "source": [
    "# Utiliza esta celda para mostrar los coeficientes significativos que afectan positivamente\n",
    "#muestra las variables que inciden en tener una enfermedad coronaria\n",
    "\n",
    "coefs_dep = model_4.summary2().tables[1]\n",
    "coefs_dep[coefs_dep[\"Coef.\"] > 0]"
   ]
  },
  {
   "cell_type": "code",
   "execution_count": 21,
   "id": "bfaf0f09",
   "metadata": {},
   "outputs": [
    {
     "data": {
      "text/html": [
       "<div>\n",
       "<style scoped>\n",
       "    .dataframe tbody tr th:only-of-type {\n",
       "        vertical-align: middle;\n",
       "    }\n",
       "\n",
       "    .dataframe tbody tr th {\n",
       "        vertical-align: top;\n",
       "    }\n",
       "\n",
       "    .dataframe thead th {\n",
       "        text-align: right;\n",
       "    }\n",
       "</style>\n",
       "<table border=\"1\" class=\"dataframe\">\n",
       "  <thead>\n",
       "    <tr style=\"text-align: right;\">\n",
       "      <th></th>\n",
       "      <th>Coef.</th>\n",
       "      <th>Std.Err.</th>\n",
       "      <th>z</th>\n",
       "      <th>P&gt;|z|</th>\n",
       "      <th>[0.025</th>\n",
       "      <th>0.975]</th>\n",
       "    </tr>\n",
       "  </thead>\n",
       "  <tbody>\n",
       "    <tr>\n",
       "      <th>Intercept</th>\n",
       "      <td>-6.446445</td>\n",
       "      <td>0.920872</td>\n",
       "      <td>-7.000372</td>\n",
       "      <td>2.552836e-12</td>\n",
       "      <td>-8.25132</td>\n",
       "      <td>-4.641569</td>\n",
       "    </tr>\n",
       "  </tbody>\n",
       "</table>\n",
       "</div>"
      ],
      "text/plain": [
       "              Coef.  Std.Err.         z         P>|z|   [0.025    0.975]\n",
       "Intercept -6.446445  0.920872 -7.000372  2.552836e-12 -8.25132 -4.641569"
      ]
     },
     "execution_count": 21,
     "metadata": {},
     "output_type": "execute_result"
    }
   ],
   "source": [
    "# Utiliza esta celda para mostrar los coeficientes significativos que afectan negativamente\n",
    "\n",
    "coefs_dep = model_4.summary2().tables[1]\n",
    "coefs_dep[coefs_dep[\"Coef.\"] < 0]"
   ]
  },
  {
   "cell_type": "markdown",
   "id": "9a3c6ce6",
   "metadata": {},
   "source": [
    "**Respuesta**\n",
    "\n",
    "*Los factores de riesgo de tener una enfermedad coronaria son el hecho de fumar, tener un valor de ldl alto, tener\n",
    "antecedentes familiares. tener personalidad tipo a y ser mayor de edad.\n",
    "\n",
    "*Entre los regresores no hay factores protectores"
   ]
  },
  {
   "cell_type": "markdown",
   "id": "e4aee44e",
   "metadata": {},
   "source": [
    "### Desafío 4: Estimación de perfiles\n",
    "A partir del modelo depurado, genere las estimaciones en log-odds y posteriormente transfórmelas a probabilidades con `inverse_logit`. Los perfiles a estimar son los\n",
    "siguientes:\n",
    "\n",
    "- La probabilidad de tener una enfermedad coronaria para un individuo con características similares a la muestra."
   ]
  },
  {
   "cell_type": "code",
   "execution_count": 22,
   "id": "f8925e66",
   "metadata": {},
   "outputs": [
    {
     "data": {
      "text/plain": [
       "Index(['Intercept', 'tobacco', 'ldl', 'famhist', 'typea', 'age'], dtype='object')"
      ]
     },
     "execution_count": 22,
     "metadata": {},
     "output_type": "execute_result"
    }
   ],
   "source": [
    "coefs_dep.index"
   ]
  },
  {
   "cell_type": "code",
   "execution_count": 29,
   "id": "e1003107",
   "metadata": {},
   "outputs": [
    {
     "data": {
      "text/plain": [
       "0.4141865908182172"
      ]
     },
     "execution_count": 29,
     "metadata": {},
     "output_type": "execute_result"
    }
   ],
   "source": [
    "# Utiliza esta celda para mostrar la probabilidad de un invidivuo promedio con antecedentes familiares\n",
    "\n",
    "log_odds_promedio_con_ant = model_4.params[\"Intercept\"] +  model_4.params[\"tobacco\"] * df[\"tobacco\"].mean() + model_4.params[\"ldl\"] * df[\"ldl\"].mean() + model_4.params[\"famhist\"] * 1 + model_4.params[\"typea\"] * df[\"typea\"].mean() +  model_4.params[\"age\"] * df[\"age\"].mean()\n",
    "\n",
    "prob_promedio_con_ant = inverse_logit(log_odds_promedio_con_ant)\n",
    "\n",
    "prob_promedio_con_ant"
   ]
  },
  {
   "cell_type": "code",
   "execution_count": 30,
   "id": "ecdf3f1b",
   "metadata": {},
   "outputs": [
    {
     "data": {
      "text/plain": [
       "0.2218599809694638"
      ]
     },
     "execution_count": 30,
     "metadata": {},
     "output_type": "execute_result"
    }
   ],
   "source": [
    "# Utiliza esta celda para mostrar la probabilidad de un individuo promedio sin antecedentes familiares\n",
    "\n",
    "\n",
    "# Utiliza esta celda para mostrar la probabilidad de un invidivuo promedio con antecedentes familiares\n",
    "\n",
    "log_odds_promedio_sin_ant = model_4.params[\"Intercept\"] +  model_4.params[\"tobacco\"] * df[\"tobacco\"].mean() + model_4.params[\"ldl\"] * df[\"ldl\"].mean() + model_4.params[\"famhist\"] * 0 + model_4.params[\"typea\"] * df[\"typea\"].mean() +  model_4.params[\"age\"] * df[\"age\"].mean()\n",
    "\n",
    "prob_promedio_sin_ant = inverse_logit(log_odds_promedio_sin_ant)\n",
    "\n",
    "prob_promedio_sin_ant"
   ]
  },
  {
   "cell_type": "markdown",
   "id": "87cb7c89",
   "metadata": {},
   "source": [
    "- La probabilidad de tener una enfermedad coronaria para un individuo con altos niveles de lipoproteína de baja densidad, _manteniendo todas las demás características constantes_."
   ]
  },
  {
   "cell_type": "code",
   "execution_count": 31,
   "id": "19f3e8ba",
   "metadata": {},
   "outputs": [
    {
     "data": {
      "text/plain": [
       "0.797178781473293"
      ]
     },
     "execution_count": 31,
     "metadata": {},
     "output_type": "execute_result"
    }
   ],
   "source": [
    "# Utiliza esta celda para mostrar la probabilidad de un invidivuo promedio con antecedentes familiares y un alto nivel de lopoproteína de baja densidad\n",
    "\n",
    "\n",
    "log_odds_alto_ldl_con_ant = model_4.params[\"Intercept\"] +  model_4.params[\"tobacco\"] * df[\"tobacco\"].mean() + model_4.params[\"ldl\"] * df[\"ldl\"].max() + model_4.params[\"famhist\"] * 1 + model_4.params[\"typea\"] * df[\"typea\"].mean() +  model_4.params[\"age\"] * df[\"age\"].mean()\n",
    "\n",
    "prob_alto_ldl_con_ant = inverse_logit(log_odds_alto_ldl_con_ant)\n",
    " \n",
    "prob_alto_ldl_con_ant"
   ]
  },
  {
   "cell_type": "code",
   "execution_count": 32,
   "id": "beab9c60",
   "metadata": {},
   "outputs": [
    {
     "data": {
      "text/plain": [
       "0.6131514776484566"
      ]
     },
     "execution_count": 32,
     "metadata": {},
     "output_type": "execute_result"
    }
   ],
   "source": [
    "# Utiliza esta celda para mostrar la probabilidad de un invidivuo promedio sin antecedentes familiares y un alto nivel de lopoproteína de baja densidad\n",
    "\n",
    "log_odds_alto_ldl_sin_ant = model_4.params[\"Intercept\"] +  model_4.params[\"tobacco\"] * df[\"tobacco\"].mean() + model_4.params[\"ldl\"] * df[\"ldl\"].max() + model_4.params[\"famhist\"] * 0 + model_4.params[\"typea\"] * df[\"typea\"].mean() +  model_4.params[\"age\"] * df[\"age\"].mean()\n",
    "\n",
    "prob_alto_ldl_sin_ant = inverse_logit(log_odds_alto_ldl_sin_ant)\n",
    " \n",
    "prob_alto_ldl_sin_ant"
   ]
  },
  {
   "cell_type": "markdown",
   "id": "5f7045ea",
   "metadata": {},
   "source": [
    "- La probabilidad de tener una enfermedad coronaria para un individuo con bajos niveles de lipoproteína de baja densidad, _manteniendo todas las demás características constantes_."
   ]
  },
  {
   "cell_type": "code",
   "execution_count": 33,
   "id": "4d6f08b3",
   "metadata": {},
   "outputs": [
    {
     "data": {
      "text/plain": [
       "0.2777146981541849"
      ]
     },
     "execution_count": 33,
     "metadata": {},
     "output_type": "execute_result"
    }
   ],
   "source": [
    "# Utiliza esta celda para mostrar la probabilidad de un invidivuo promedio con antecedentes familiares y un bajo nivel de lopoproteína de baja densidad\n",
    "\n",
    "log_odds_bajo_ldl_con_ant = model_4.params[\"Intercept\"] +  model_4.params[\"tobacco\"] * df[\"tobacco\"].mean() + model_4.params[\"ldl\"] * df[\"ldl\"].min() + model_4.params[\"famhist\"] * 1 + model_4.params[\"typea\"] * df[\"typea\"].mean() +  model_4.params[\"age\"] * df[\"age\"].mean()\n",
    "\n",
    "prob_bajo_ldl_con_ant = inverse_logit(log_odds_bajo_ldl_con_ant)\n",
    " \n",
    "prob_bajo_ldl_con_ant"
   ]
  },
  {
   "cell_type": "code",
   "execution_count": 34,
   "id": "f666fe7a",
   "metadata": {},
   "outputs": [
    {
     "data": {
      "text/plain": [
       "0.13423736552880983"
      ]
     },
     "execution_count": 34,
     "metadata": {},
     "output_type": "execute_result"
    }
   ],
   "source": [
    "# Utiliza esta celda para mostrar la probabilidad de un invidivuo promedio sin antecedentes familiares y un bajo nivel de lopoproteína de baja densidad\n",
    "\n",
    "log_odds_bajo_ldl_sin_ant = model_4.params[\"Intercept\"] +  model_4.params[\"tobacco\"] * df[\"tobacco\"].mean() + model_4.params[\"ldl\"] * df[\"ldl\"].min() + model_4.params[\"famhist\"] * 0 + model_4.params[\"typea\"] * df[\"typea\"].mean() +  model_4.params[\"age\"] * df[\"age\"].mean()\n",
    "\n",
    "prob_bajo_ldl_sin_ant = inverse_logit(log_odds_bajo_ldl_sin_ant)\n",
    " \n",
    "prob_bajo_ldl_sin_ant"
   ]
  },
  {
   "cell_type": "code",
   "execution_count": null,
   "id": "a5db8751",
   "metadata": {},
   "outputs": [],
   "source": []
  }
 ],
 "metadata": {
  "kernelspec": {
   "display_name": "Python 3 (ipykernel)",
   "language": "python",
   "name": "python3"
  },
  "language_info": {
   "codemirror_mode": {
    "name": "ipython",
    "version": 3
   },
   "file_extension": ".py",
   "mimetype": "text/x-python",
   "name": "python",
   "nbconvert_exporter": "python",
   "pygments_lexer": "ipython3",
   "version": "3.9.12"
  }
 },
 "nbformat": 4,
 "nbformat_minor": 5
}
